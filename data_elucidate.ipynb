{
 "cells": [
  {
   "cell_type": "code",
   "execution_count": 14,
   "metadata": {},
   "outputs": [],
   "source": [
    "import torch\n",
    "import numpy as np"
   ]
  },
  {
   "cell_type": "code",
   "execution_count": 15,
   "metadata": {},
   "outputs": [],
   "source": [
    "X_v2 = torch.load(\"./data/X_v2.pth\")"
   ]
  },
  {
   "cell_type": "code",
   "execution_count": 16,
   "metadata": {},
   "outputs": [],
   "source": [
    "X_Faultline069070 = X_v2[14]"
   ]
  },
  {
   "cell_type": "code",
   "execution_count": 17,
   "metadata": {},
   "outputs": [],
   "source": [
    "torch.save(X_Faultline069070, \"./data/X_Faultline069070.pth\")"
   ]
  },
  {
   "cell_type": "markdown",
   "metadata": {},
   "source": [
    "## Dataset 1"
   ]
  },
  {
   "cell_type": "markdown",
   "metadata": {},
   "source": [
    "t: the time steps, t from 2. second to 11. second, the interval is 0.01 second.\n",
    "\n",
    "X_Faultline038065 is the trajectories of power system dynamic with fault line (38, 65); X_Faultline038065.shape is (471, 901, 38), 471 trajectories for fault duration 30 to 500 with interval of 1ms.\n",
    "\n",
    "X_Faultline069070 is the trajectories of power system dynamic with fault line (69, 70); X_Faultline069070.shape is (10, 901, 38), 10 trajectories for fault duration 50 to 500 with interval of 10ms.\n",
    "\n",
    "X_Faultline110112 is the trajectories of power system dynamic with fault line (110, 112); X_Faultline110112.shape is (10, 901, 38), 10 trajectories for fault duration 50 to 500 with interval of 10ms.\n",
    "\n",
    "38: 38 states $(q_1, p_1, q_2, p_2, ..., q_{19}, p_{19})$, $q_i$ means rotor angle at bus $i$, $p_i$ means rotor speed at bus i."
   ]
  },
  {
   "cell_type": "code",
   "execution_count": 18,
   "metadata": {},
   "outputs": [
    {
     "name": "stdout",
     "output_type": "stream",
     "text": [
      "torch.Size([901])\n",
      "torch.Size([471, 901, 38])\n",
      "torch.Size([10, 901, 38])\n",
      "torch.Size([10, 901, 38])\n"
     ]
    }
   ],
   "source": [
    "# load the dataset\n",
    "t = torch.load(\"./data/t.pth\")\n",
    "X_Faultline038065 = torch.load(\"./data/X_Faultline038065.pth\")\n",
    "X_Faultline069070 = torch.load(\"./data/X_Faultline069070.pth\")\n",
    "X_Faultline110112 = torch.load(\"./data/X_Faultline110112.pth\")\n",
    "print(t.shape)\n",
    "print(X_Faultline038065.shape)\n",
    "print(X_Faultline069070.shape)\n",
    "print(X_Faultline110112.shape)"
   ]
  },
  {
   "cell_type": "code",
   "execution_count": null,
   "metadata": {},
   "outputs": [],
   "source": []
  }
 ],
 "metadata": {
  "kernelspec": {
   "display_name": "hnn",
   "language": "python",
   "name": "python3"
  },
  "language_info": {
   "codemirror_mode": {
    "name": "ipython",
    "version": 3
   },
   "file_extension": ".py",
   "mimetype": "text/x-python",
   "name": "python",
   "nbconvert_exporter": "python",
   "pygments_lexer": "ipython3",
   "version": "3.8.16"
  },
  "orig_nbformat": 4
 },
 "nbformat": 4,
 "nbformat_minor": 2
}
