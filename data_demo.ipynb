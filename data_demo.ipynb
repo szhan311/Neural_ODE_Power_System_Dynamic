{
 "cells": [
  {
   "cell_type": "code",
   "execution_count": 1,
   "metadata": {},
   "outputs": [],
   "source": [
    "import torch"
   ]
  },
  {
   "cell_type": "code",
   "execution_count": 2,
   "metadata": {},
   "outputs": [],
   "source": [
    "# load the dataset\n",
    "t = torch.load(\"./data/t.pth\")\n",
    "X = torch.load(\"./data/X.pth\")\n",
    "dX = torch.load(\"./data/dX.pth\")"
   ]
  },
  {
   "attachments": {},
   "cell_type": "markdown",
   "metadata": {},
   "source": [
    "\n",
    "X is the trajectories of power system dynamic;\n",
    "\n",
    "X.shape is (471, 901, 38);\n",
    "\n",
    "471: 471 trajectories for fault duration 30 to 500;\n",
    "\n",
    "901: 901 means time, t from 2. second to 11. second, the interval is 0.01 second;\n",
    "\n",
    "38: 38 states $(q_1, p_1, q_2, p_2, ..., q_{19}, p_{19})$, $q_i$ means rotor angle at bus $i$, $p_i$ means rotor speed at bus i."
   ]
  },
  {
   "cell_type": "code",
   "execution_count": 6,
   "metadata": {},
   "outputs": [
    {
     "name": "stdout",
     "output_type": "stream",
     "text": [
      "tensor(2.) tensor(11.)\n"
     ]
    }
   ],
   "source": [
    "# t is from 2 second to 11 second\n",
    "print(t[0], t[-1])"
   ]
  },
  {
   "cell_type": "code",
   "execution_count": 8,
   "metadata": {},
   "outputs": [
    {
     "data": {
      "text/plain": [
       "torch.Size([471, 901, 38])"
      ]
     },
     "execution_count": 8,
     "metadata": {},
     "output_type": "execute_result"
    }
   ],
   "source": [
    "X.shape"
   ]
  }
 ],
 "metadata": {
  "kernelspec": {
   "display_name": "hnn",
   "language": "python",
   "name": "python3"
  },
  "language_info": {
   "codemirror_mode": {
    "name": "ipython",
    "version": 3
   },
   "file_extension": ".py",
   "mimetype": "text/x-python",
   "name": "python",
   "nbconvert_exporter": "python",
   "pygments_lexer": "ipython3",
   "version": "3.8.15"
  },
  "orig_nbformat": 4
 },
 "nbformat": 4,
 "nbformat_minor": 2
}
